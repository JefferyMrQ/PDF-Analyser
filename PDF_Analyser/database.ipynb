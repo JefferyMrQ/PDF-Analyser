{
 "cells": [
  {
   "cell_type": "code",
   "execution_count": 4,
   "id": "b8b0de76-55c7-446b-9b41-75123bc46d94",
   "metadata": {},
   "outputs": [],
   "source": [
    "import pickle"
   ]
  },
  {
   "cell_type": "code",
   "execution_count": 2,
   "id": "ff396042-c38c-49ca-9f94-36ec6ec976e2",
   "metadata": {},
   "outputs": [],
   "source": [
    "data = {'议题1': ['气候变化', '气候'],\n",
    "        '议题2': ['水资源', '水污染']}\n",
    "\n",
    "with open('./data/demo.pkl', 'wb') as f:\n",
    "    pickle.dump(data, f)\n"
   ]
  },
  {
   "cell_type": "code",
   "execution_count": 10,
   "id": "752bb880-d677-42e7-b2bd-73da66e921e2",
   "metadata": {},
   "outputs": [
    {
     "data": {
      "text/plain": [
       "{'议题1': ['气候变化', '气候'], '议题2': ['水资源', '水污染']}"
      ]
     },
     "execution_count": 10,
     "metadata": {},
     "output_type": "execute_result"
    }
   ],
   "source": [
    "with open('./data/demo.pkl', 'rb') as f:\n",
    "    load_data = pickle.load(f)\n",
    "    \n",
    "load_data"
   ]
  },
  {
   "cell_type": "code",
   "execution_count": 11,
   "id": "aaeb7121-8860-49f7-9eb3-7b5911f74296",
   "metadata": {},
   "outputs": [
    {
     "data": {
      "text/plain": [
       "{'议题1': ['气候变化', '气候', '空气质量'], '议题2': ['水资源', '水污染'], '议题3': ['就业', '员工福利']}"
      ]
     },
     "execution_count": 11,
     "metadata": {},
     "output_type": "execute_result"
    }
   ],
   "source": [
    "load_data['议题3'] = ['就业', '员工福利']\n",
    "load_data['议题1'].append('空气质量')\n",
    "load_data"
   ]
  },
  {
   "cell_type": "code",
   "execution_count": 12,
   "id": "ec95b7db-9d9d-42b8-ad24-5734f4c053d1",
   "metadata": {},
   "outputs": [],
   "source": [
    "data = load_data\n",
    "with open('./data/demo.pkl', 'wb') as f:\n",
    "    pickle.dump(data, f)"
   ]
  },
  {
   "cell_type": "code",
   "execution_count": 13,
   "id": "9ad4074e-0826-4360-8939-b36f90133e1a",
   "metadata": {},
   "outputs": [
    {
     "data": {
      "text/plain": [
       "{'议题1': ['气候变化', '气候', '空气质量'], '议题2': ['水资源', '水污染'], '议题3': ['就业', '员工福利']}"
      ]
     },
     "execution_count": 13,
     "metadata": {},
     "output_type": "execute_result"
    }
   ],
   "source": [
    "with open('./data/demo.pkl', 'rb') as f:\n",
    "    load_data = pickle.load(f)\n",
    "    \n",
    "load_data"
   ]
  },
  {
   "cell_type": "code",
   "execution_count": 2,
   "id": "84c04a43-759f-499f-80df-cbe5fd6f9d4f",
   "metadata": {},
   "outputs": [],
   "source": [
    "# 数据库\n",
    "E_issue123_word_db = {'Climate Change': {'Climate Change': ({'Climate Change', 'Green Operations', 'Sustainable Investment', 'Responsible investment', 'Physical Impacts of climate Change'}, {'Climate Change', 'Climate Strategy', 'Climate initiatives'}), \n",
    "                                         'GHG Emissions': ({'GHG Emissions', 'Green House Gas Emissions', 'Greenhouse gases and other air emissions'}, {'GHG Emissions', 'Green House Gas Emissions'})}, \n",
    "                      'Energy': {'issue1': ({'subissue1'}, {'word1'})},\n",
    "                      'Air emissions': {'issue1': ({'subissue1'}, {'word1'})}, \n",
    "                      'Waste': {'issue1': ({'subissue1'}, {'word1'})}}\n",
    "S_issue123_word_db = {'S1': {'SS1': ({'SSS1'}, {'W1'})}}\n",
    "ESGO_issue123_word_db = {'Environment': E_issue123_word_db, 'Social': S_issue123_word_db}\n",
    "# Climate_Change_db = {'Climate Change': ['Climate Change', 'Green Operations', 'Sustainable Investment', 'Responsible investment', 'Physical Impacts of climate Change'], 'GHG Emissions': ['GHG Emissions', 'Green House Gas Emissions', 'Greenhouse gases and other air emissions']}"
   ]
  },
  {
   "cell_type": "code",
   "execution_count": 5,
   "id": "4d4db06c-11c3-45a1-9fc3-0cdad1e3e761",
   "metadata": {},
   "outputs": [],
   "source": [
    "with open('./data/demo.pkl', 'wb') as f:\n",
    "    pickle.dump(ESGO_issue123_word_db, f)"
   ]
  },
  {
   "cell_type": "code",
   "execution_count": 6,
   "id": "34c3892f-ab70-4ca3-a47e-8321964a4ef7",
   "metadata": {},
   "outputs": [
    {
     "data": {
      "text/plain": [
       "{'Environment': {'Climate Change': {'Climate Change': ({'Climate Change',\n",
       "     'Green Operations',\n",
       "     'Physical Impacts of climate Change',\n",
       "     'Responsible investment',\n",
       "     'Sustainable Investment'},\n",
       "    {'Climate Change', 'Climate Strategy', 'Climate initiatives'}),\n",
       "   'GHG Emissions': ({'GHG Emissions',\n",
       "     'Green House Gas Emissions',\n",
       "     'Greenhouse gases and other air emissions'},\n",
       "    {'GHG Emissions', 'Green House Gas Emissions'})},\n",
       "  'Energy': {'issue1': ({'subissue1'}, {'word1'})},\n",
       "  'Air emissions': {'issue1': ({'subissue1'}, {'word1'})},\n",
       "  'Waste': {'issue1': ({'subissue1'}, {'word1'})}},\n",
       " 'Social': {'S1': {'SS1': ({'SSS1'}, {'W1'})}}}"
      ]
     },
     "execution_count": 6,
     "metadata": {},
     "output_type": "execute_result"
    }
   ],
   "source": [
    "with open('./data/demo.pkl', 'rb') as f:\n",
    "    load_data = pickle.load(f)\n",
    "    \n",
    "load_data"
   ]
  },
  {
   "cell_type": "code",
   "execution_count": 210,
   "id": "77b1e043-c052-444c-8281-cc30d3ec473e",
   "metadata": {},
   "outputs": [
    {
     "data": {
      "text/plain": [
       "['a', 'A', 'B', 'b', 'C', 'd', 'G']"
      ]
     },
     "execution_count": 210,
     "metadata": {},
     "output_type": "execute_result"
    }
   ],
   "source": [
    "a = ['a', 'B', 'b', \"A\", 'C', 'G', 'd']\n",
    "a.sort(key=lambda x: str.lower(x[0]))\n",
    "a"
   ]
  },
  {
   "cell_type": "code",
   "execution_count": 182,
   "id": "6ad58182-f590-4639-8cd3-4472916fdb9f",
   "metadata": {},
   "outputs": [
    {
     "data": {
      "text/plain": [
       "dict_keys(['Climate Change', 'Energy', 'Air emissions', 'Waste'])"
      ]
     },
     "execution_count": 182,
     "metadata": {},
     "output_type": "execute_result"
    }
   ],
   "source": [
    "# 数据库使用\n",
    "issue_word_db.keys()"
   ]
  },
  {
   "cell_type": "code",
   "execution_count": 184,
   "id": "96665418-18ae-40b1-a752-907a19782e27",
   "metadata": {},
   "outputs": [
    {
     "data": {
      "text/plain": [
       "{'Climate Change': ({'Climate Change',\n",
       "   'Green Operations',\n",
       "   'Physical Impacts of climate Change',\n",
       "   'Responsible investment',\n",
       "   'Sustainable Investment'},\n",
       "  {'Climate Change', 'Climate Strategy', 'Climate initiatives'}),\n",
       " 'GHG Emissions': ({'GHG Emissions',\n",
       "   'Green House Gas Emissions',\n",
       "   'Greenhouse gases and other air emissions'},\n",
       "  {'GHG Emissions', 'Green House Gas Emissions'})}"
      ]
     },
     "execution_count": 184,
     "metadata": {},
     "output_type": "execute_result"
    }
   ],
   "source": [
    "selected_issue1 = 'Climate Change'\n",
    "selected_issue23_word = issue_word_db[selected_issue1]\n",
    "selected_issue23_word"
   ]
  },
  {
   "cell_type": "code",
   "execution_count": 189,
   "id": "81883c09-10ad-4375-b208-f9edc04ecdfc",
   "metadata": {},
   "outputs": [
    {
     "data": {
      "text/plain": [
       "['Responsible investment',\n",
       " 'Climate Change',\n",
       " 'Physical Impacts of climate Change',\n",
       " 'Sustainable Investment',\n",
       " 'Green Operations',\n",
       " 'Greenhouse gases and other air emissions',\n",
       " 'Green House Gas Emissions',\n",
       " 'GHG Emissions']"
      ]
     },
     "execution_count": 189,
     "metadata": {},
     "output_type": "execute_result"
    }
   ],
   "source": [
    "issues3 = [i for s in list(map(lambda x: x[0], selected_issue23_word.values())) for i in s]\n",
    "issues3"
   ]
  },
  {
   "cell_type": "code",
   "execution_count": 190,
   "id": "aeab049e-98f1-478d-aad2-75a30993947c",
   "metadata": {},
   "outputs": [],
   "source": [
    "selected_issue3 = 'Green Operations'"
   ]
  },
  {
   "cell_type": "code",
   "execution_count": 191,
   "id": "59647144-3b3e-4a0a-8c15-2229ebdc0505",
   "metadata": {},
   "outputs": [
    {
     "data": {
      "text/plain": [
       "{'Climate Change', 'Climate Strategy', 'Climate initiatives'}"
      ]
     },
     "execution_count": 191,
     "metadata": {},
     "output_type": "execute_result"
    }
   ],
   "source": [
    "def get_words(s, db):\n",
    "    for key in db:\n",
    "        if s in db[key][0]:\n",
    "            return db[key][1]\n",
    "        \n",
    "words = get_words(selected_issue3, selected_issue23_word)\n",
    "words"
   ]
  },
  {
   "cell_type": "code",
   "execution_count": null,
   "id": "f1144ffd-dd78-4507-a035-045c5e67f1d6",
   "metadata": {},
   "outputs": [],
   "source": [
    "# 数据库修改\n",
    "# 增加\n",
    "# 增加2级议题\n",
    "def add_2_issue(issue123_word_db, selected_issue1, new_issue2, new_issue3, new_words):\n",
    "    issue123_word_db = issue123_word_db.copy()\n",
    "    issue123_word_db[selected_issue1].update({new_issue2: (new_issue3, new_words)})\n",
    "    return issue123_word_db\n",
    "\n",
    "def add_3_issue(issue123_word_db, selected_issue1, selected_issue2, new_issue3s):\n",
    "    issue123_word_db = issue123_word_db.copy()\n",
    "    issue3_set = issue123_word_db[selected_issue1][selected_issue2][0]\n",
    "    for issue3 in new_issue3s:\n",
    "        issue3_set.add(issue3)\n",
    "    issue123_word_db[selected_issue1][selected_issue2][0] = issue3_set\n",
    "    return issue123_word_db\n",
    "    \n",
    "def add_words(issue123_word_db, selected_issue1, selected_issue2, selected_issue3, new_words):\n",
    "    issue123_word_db = issue123_word_db.copy()\n",
    "    words = issue123_word_db[selected_issue1][selected_issue2][1]\n",
    "    for word in new_words:\n",
    "        words.add(word)\n",
    "    issue123_word_db[selected_issue1][selected_issue2][1] = words\n",
    "    return issue123_word_db"
   ]
  },
  {
   "cell_type": "code",
   "execution_count": null,
   "id": "369dbc8c-b844-48e8-9685-d63205115ef7",
   "metadata": {},
   "outputs": [],
   "source": []
  },
  {
   "cell_type": "code",
   "execution_count": null,
   "id": "7f74de2d-44bc-4144-9c42-e26bf77a723e",
   "metadata": {},
   "outputs": [],
   "source": []
  },
  {
   "cell_type": "markdown",
   "id": "314ae17f-d4ec-4c0d-9ef3-288e49b315a5",
   "metadata": {},
   "source": [
    "# 大表简化为字典"
   ]
  },
  {
   "cell_type": "code",
   "execution_count": 47,
   "id": "af2cc8d7-77b2-4202-845d-44f377a762b4",
   "metadata": {},
   "outputs": [],
   "source": [
    "import pandas as pd\n",
    "import pickle\n",
    "import numpy as np"
   ]
  },
  {
   "cell_type": "code",
   "execution_count": 71,
   "id": "c6d3efe7-26c9-490f-b5bf-692e65431c6d",
   "metadata": {},
   "outputs": [
    {
     "data": {
      "text/html": [
       "<div>\n",
       "<style scoped>\n",
       "    .dataframe tbody tr th:only-of-type {\n",
       "        vertical-align: middle;\n",
       "    }\n",
       "\n",
       "    .dataframe tbody tr th {\n",
       "        vertical-align: top;\n",
       "    }\n",
       "\n",
       "    .dataframe thead th {\n",
       "        text-align: right;\n",
       "    }\n",
       "</style>\n",
       "<table border=\"1\" class=\"dataframe\">\n",
       "  <thead>\n",
       "    <tr style=\"text-align: right;\">\n",
       "      <th></th>\n",
       "      <th>Stock Code</th>\n",
       "      <th>report time</th>\n",
       "      <th>name</th>\n",
       "      <th>link</th>\n",
       "    </tr>\n",
       "  </thead>\n",
       "  <tbody>\n",
       "    <tr>\n",
       "      <th>0</th>\n",
       "      <td>00001.HK</td>\n",
       "      <td>31/05/2022</td>\n",
       "      <td>2021 Sustainbility Report</td>\n",
       "      <td>https://www1.hkexnews.hk/listedco/listconews/s...</td>\n",
       "    </tr>\n",
       "    <tr>\n",
       "      <th>1</th>\n",
       "      <td>00001.HK</td>\n",
       "      <td>29/06/2021</td>\n",
       "      <td>2020  Sustainbility Report</td>\n",
       "      <td>https://www1.hkexnews.hk/listedco/listconews/s...</td>\n",
       "    </tr>\n",
       "    <tr>\n",
       "      <th>2</th>\n",
       "      <td>00002.HK</td>\n",
       "      <td>21/07/2022</td>\n",
       "      <td>2021  Sustainbility Report</td>\n",
       "      <td>https://www1.hkexnews.hk/listedco/listconews/s...</td>\n",
       "    </tr>\n",
       "  </tbody>\n",
       "</table>\n",
       "</div>"
      ],
      "text/plain": [
       "  Stock Code report time                        name  \\\n",
       "0   00001.HK  31/05/2022   2021 Sustainbility Report   \n",
       "1   00001.HK  29/06/2021  2020  Sustainbility Report   \n",
       "2   00002.HK  21/07/2022  2021  Sustainbility Report   \n",
       "\n",
       "                                                link  \n",
       "0  https://www1.hkexnews.hk/listedco/listconews/s...  \n",
       "1  https://www1.hkexnews.hk/listedco/listconews/s...  \n",
       "2  https://www1.hkexnews.hk/listedco/listconews/s...  "
      ]
     },
     "execution_count": 71,
     "metadata": {},
     "output_type": "execute_result"
    }
   ],
   "source": [
    "df = pd.read_excel(\"data.xlsx\")\n",
    "df"
   ]
  },
  {
   "cell_type": "code",
   "execution_count": 73,
   "id": "00800ab1-9a48-464b-bca0-cb3265a5f67d",
   "metadata": {},
   "outputs": [],
   "source": [
    "code_time_key = tuple(zip(df[\"Stock Code\"], df[\"report time\"]))\n",
    "links = list(zip(df['name'], df[\"link\"]))"
   ]
  },
  {
   "cell_type": "code",
   "execution_count": 74,
   "id": "39008511-9801-43c7-aaf3-5b340da0ea65",
   "metadata": {},
   "outputs": [
    {
     "data": {
      "text/plain": [
       "{('00001.HK', '31/05/2022'): ('2021 Sustainbility Report',\n",
       "  'https://www1.hkexnews.hk/listedco/listconews/sehk/2022/0531/2022053100050_c.pdf'),\n",
       " ('00001.HK', '29/06/2021'): ('2020  Sustainbility Report',\n",
       "  'https://www1.hkexnews.hk/listedco/listconews/sehk/2021/0629/2021062901316_c.pdf'),\n",
       " ('00002.HK', '21/07/2022'): ('2021  Sustainbility Report',\n",
       "  'https://www1.hkexnews.hk/listedco/listconews/sehk/2022/0428/2022042803714_c.pdf')}"
      ]
     },
     "execution_count": 74,
     "metadata": {},
     "output_type": "execute_result"
    }
   ],
   "source": [
    "data = dict(zip(code_time_key, links))\n",
    "data"
   ]
  },
  {
   "cell_type": "code",
   "execution_count": 75,
   "id": "7ad18305-c964-4b83-87af-150fcec7164a",
   "metadata": {},
   "outputs": [],
   "source": [
    "with open(\"./data/code_time_link.pkl\", \"wb\") as f:\n",
    "    pickle.dump(data, f)"
   ]
  },
  {
   "cell_type": "code",
   "execution_count": 76,
   "id": "c3f15a77-e85a-434a-92d4-91fc480ba4ec",
   "metadata": {},
   "outputs": [],
   "source": [
    "with open(\"./data/code_time_link.pkl\", \"rb\") as f:\n",
    "    a = pickle.load(f)"
   ]
  },
  {
   "cell_type": "code",
   "execution_count": 77,
   "id": "8550d140-5bc7-4f09-9020-57c17a816b57",
   "metadata": {},
   "outputs": [
    {
     "data": {
      "text/plain": [
       "{('00001.HK', '31/05/2022'): ('2021 Sustainbility Report',\n",
       "  'https://www1.hkexnews.hk/listedco/listconews/sehk/2022/0531/2022053100050_c.pdf'),\n",
       " ('00001.HK', '29/06/2021'): ('2020  Sustainbility Report',\n",
       "  'https://www1.hkexnews.hk/listedco/listconews/sehk/2021/0629/2021062901316_c.pdf'),\n",
       " ('00002.HK', '21/07/2022'): ('2021  Sustainbility Report',\n",
       "  'https://www1.hkexnews.hk/listedco/listconews/sehk/2022/0428/2022042803714_c.pdf')}"
      ]
     },
     "execution_count": 77,
     "metadata": {},
     "output_type": "execute_result"
    }
   ],
   "source": [
    "a"
   ]
  },
  {
   "cell_type": "code",
   "execution_count": 78,
   "id": "a75eef55-a00f-41ac-bafe-3ce79730e5dc",
   "metadata": {},
   "outputs": [
    {
     "data": {
      "text/plain": [
       "{'00001.HK', '00002.HK'}"
      ]
     },
     "execution_count": 78,
     "metadata": {},
     "output_type": "execute_result"
    }
   ],
   "source": [
    "set(map(lambda x: x[0], a.keys()))"
   ]
  },
  {
   "cell_type": "code",
   "execution_count": 79,
   "id": "a9d85a51-9917-40e6-aac5-f8a33b9d45c3",
   "metadata": {},
   "outputs": [
    {
     "data": {
      "text/plain": [
       "['31/05/2022', '29/06/2021', None]"
      ]
     },
     "execution_count": 79,
     "metadata": {},
     "output_type": "execute_result"
    }
   ],
   "source": [
    "code = '00001.HK'\n",
    "time = list(map(lambda x: x[1] if x[0] == code else None, a.keys()))\n",
    "time"
   ]
  },
  {
   "cell_type": "code",
   "execution_count": 80,
   "id": "70a2431e-3860-4379-ba64-062ac6e6c7d8",
   "metadata": {},
   "outputs": [
    {
     "data": {
      "text/plain": [
       "['31/05/2022', '29/06/2021']"
      ]
     },
     "execution_count": 80,
     "metadata": {},
     "output_type": "execute_result"
    }
   ],
   "source": [
    "list(filter(None, map(lambda x: x[1] if x[0] == code else None, a.keys())))"
   ]
  },
  {
   "cell_type": "code",
   "execution_count": null,
   "id": "ccf10028-35c5-41b9-bd42-def64caaa4cb",
   "metadata": {},
   "outputs": [],
   "source": []
  },
  {
   "cell_type": "code",
   "execution_count": null,
   "id": "96bc038c-7318-44e2-8b48-4a9da12ccee9",
   "metadata": {},
   "outputs": [],
   "source": []
  },
  {
   "cell_type": "code",
   "execution_count": null,
   "id": "4e8b831c-874f-48a0-898f-23e14fd16427",
   "metadata": {},
   "outputs": [],
   "source": []
  },
  {
   "cell_type": "code",
   "execution_count": null,
   "id": "aa6c2eb6-31e4-4da2-9cac-0ed5ecb2e734",
   "metadata": {},
   "outputs": [],
   "source": []
  },
  {
   "cell_type": "markdown",
   "id": "34b5d963-8394-4e94-be97-4f6cc4c06847",
   "metadata": {},
   "source": [
    "# 一级标题提取"
   ]
  },
  {
   "cell_type": "code",
   "execution_count": 81,
   "id": "a7658a2f-e239-4db2-9553-56d628f80f8d",
   "metadata": {},
   "outputs": [],
   "source": [
    "from PyPDF2 import PdfReader"
   ]
  },
  {
   "cell_type": "code",
   "execution_count": 117,
   "id": "25b970d2-1e81-4dfc-aa9d-6dafa4af3ef6",
   "metadata": {},
   "outputs": [
    {
     "name": "stdout",
     "output_type": "stream",
     "text": [
      "[{'/Title': '封面', '/Page': IndirectObject(1139, 0, 1821075256704), '/Type': '/XYZ', '/Left': -212, '/Top': 808, '/Zoom': 0}, {'/Title': '目錄', '/Page': IndirectObject(1107, 0, 1821075256704), '/Type': '/XYZ', '/Left': -212, '/Top': 808, '/Zoom': 0}, {'/Title': '公司資料', '/Page': IndirectObject(1, 0, 1821075256704), '/Type': '/XYZ', '/Left': -212, '/Top': 808, '/Zoom': 0}, {'/Title': '我們的學校', '/Page': IndirectObject(21, 0, 1821075256704), '/Type': '/XYZ', '/Left': -212, '/Top': 808, '/Zoom': 0}, {'/Title': '主席報告', '/Page': IndirectObject(144, 0, 1821075256704), '/Type': '/XYZ', '/Left': -212, '/Top': 808, '/Zoom': 0}, {'/Title': '管理層討論與分析', '/Page': IndirectObject(164, 0, 1821075256704), '/Type': '/XYZ', '/Left': -212, '/Top': 808, '/Zoom': 0}, {'/Title': '董事及高級管理層', '/Page': IndirectObject(214, 0, 1821075256704), '/Type': '/XYZ', '/Left': -212, '/Top': 808, '/Zoom': 0}, {'/Title': '董事會報告', '/Page': IndirectObject(234, 0, 1821075256704), '/Type': '/XYZ', '/Left': -212, '/Top': 808, '/Zoom': 0}, {'/Title': '企業管治報告', '/Page': IndirectObject(309, 0, 1821075256704), '/Type': '/XYZ', '/Left': -212, '/Top': 808, '/Zoom': 0}, {'/Title': '環境、社會及管治報告', '/Page': IndirectObject(341, 0, 1821075256704), '/Type': '/XYZ', '/Left': -212, '/Top': 808, '/Zoom': 0}, {'/Title': '獨立核數師報告', '/Page': IndirectObject(449, 0, 1821075256704), '/Type': '/XYZ', '/Left': -212, '/Top': 808, '/Zoom': 0, '/Count': 4}, [{'/Title': '綜合損益及其他全面收益表', '/Page': IndirectObject(481, 0, 1821075256704), '/Type': '/XYZ', '/Left': -212, '/Top': 808, '/Zoom': 0}, {'/Title': '綜合財務狀況表', '/Page': IndirectObject(499, 0, 1821075256704), '/Type': '/XYZ', '/Left': -212, '/Top': 808, '/Zoom': 0}, {'/Title': '綜合權益變動表', '/Page': IndirectObject(517, 0, 1821075256704), '/Type': '/XYZ', '/Left': -212, '/Top': 808, '/Zoom': 0}, {'/Title': '綜合現金流量表', '/Page': IndirectObject(527, 0, 1821075256704), '/Type': '/XYZ', '/Left': -212, '/Top': 808, '/Zoom': 0}], {'/Title': '財務報表附註', '/Page': IndirectObject(565, 0, 1821075256704), '/Type': '/XYZ', '/Left': -212, '/Top': 808, '/Zoom': 0}, {'/Title': '釋義', '/Page': IndirectObject(835, 0, 1821075256704), '/Type': '/XYZ', '/Left': -212, '/Top': 808, '/Zoom': 0}]\n"
     ]
    }
   ],
   "source": [
    "#每个书签的索引格式\n",
    "#{'/Title': '书签名', '/Page': '指向的目标页数', '/Type': '类型'}\n",
    "def get_outline_text(outline_dicts):\n",
    "    outline_text = []\n",
    "    for outline_dict in outline_dicts:\n",
    "        if isinstance(outline_dict, dict):\n",
    "            outline_text.append(outline_dict['/Title'])\n",
    "        # else:\n",
    "        #     get_outline_text(outline_dict) # ???\n",
    "    return outline_text\n",
    "\n",
    "with open('./data/2022123003201_c.pdf', 'rb') as f:\n",
    "    pdf = PdfReader(f)\n",
    "    #检索文档中存在的文本大纲,返回的对象是一个嵌套的列表\n",
    "    outline_dict = pdf.outline\n",
    "    print(outline_dict)\n",
    "    outline_text = get_outline_text(outline_dict)"
   ]
  },
  {
   "cell_type": "code",
   "execution_count": 118,
   "id": "3800c8a9-0eef-42ac-a679-dad41c49166c",
   "metadata": {},
   "outputs": [
    {
     "data": {
      "text/plain": [
       "['封面',\n",
       " '目錄',\n",
       " '公司資料',\n",
       " '我們的學校',\n",
       " '主席報告',\n",
       " '管理層討論與分析',\n",
       " '董事及高級管理層',\n",
       " '董事會報告',\n",
       " '企業管治報告',\n",
       " '環境、社會及管治報告',\n",
       " '獨立核數師報告',\n",
       " '財務報表附註',\n",
       " '釋義']"
      ]
     },
     "execution_count": 118,
     "metadata": {},
     "output_type": "execute_result"
    }
   ],
   "source": [
    "directory_str = outline_text\n",
    "directory_str"
   ]
  },
  {
   "cell_type": "code",
   "execution_count": 121,
   "id": "aba52dd0-d4f3-40d3-9b3e-38cd36e40c29",
   "metadata": {},
   "outputs": [
    {
     "ename": "AttributeError",
     "evalue": "'list' object has no attribute 'page'",
     "output_type": "error",
     "traceback": [
      "\u001b[1;31m---------------------------------------------------------------------------\u001b[0m",
      "\u001b[1;31mAttributeError\u001b[0m                            Traceback (most recent call last)",
      "Input \u001b[1;32mIn [121]\u001b[0m, in \u001b[0;36m<cell line: 23>\u001b[1;34m()\u001b[0m\n\u001b[0;32m     22\u001b[0m pg_num \u001b[38;5;241m=\u001b[39m []\n\u001b[0;32m     23\u001b[0m \u001b[38;5;28;01mfor\u001b[39;00m i \u001b[38;5;129;01min\u001b[39;00m \u001b[38;5;28mrange\u001b[39m(\u001b[38;5;28mlen\u001b[39m(directory_str)):\n\u001b[1;32m---> 24\u001b[0m     pg_num\u001b[38;5;241m.\u001b[39mappend(pg_id_num_map[\u001b[43mo\u001b[49m\u001b[43m[\u001b[49m\u001b[43mi\u001b[49m\u001b[43m]\u001b[49m\u001b[38;5;241;43m.\u001b[39;49m\u001b[43mpage\u001b[49m\u001b[38;5;241m.\u001b[39midnum] \u001b[38;5;241m+\u001b[39m \u001b[38;5;241m1\u001b[39m)\n\u001b[0;32m     25\u001b[0m pg_num\n",
      "\u001b[1;31mAttributeError\u001b[0m: 'list' object has no attribute 'page'"
     ]
    }
   ],
   "source": [
    "def cursor_to_page(pdf, pages=None, result=None, num_pages=None):\n",
    "    if result is None:\n",
    "        result = {}\n",
    "    if pages is None:\n",
    "        num_pages = []\n",
    "        pages = pdf.trailer[\"/Root\"].get_object()[\"/Pages\"].get_object()\n",
    "    t = pages[\"/Type\"]\n",
    "    if t == \"/Pages\":\n",
    "        for page in pages[\"/Kids\"]:\n",
    "            result[page.idnum] = len(num_pages)\n",
    "            cursor_to_page(pdf, page.get_object (), result, num_pages)\n",
    "    elif t == \"/Page\":\n",
    "        num_pages.append(1)\n",
    "    return result\n",
    "# main\n",
    "\n",
    "f = open('./data/2022123003201_c.pdf','rb')\n",
    "p = PdfReader(f)\n",
    "# map page ids to page numbers\n",
    "pg_id_num_map = cursor_to_page(p)\n",
    "o = p.outline\n",
    "pg_num = []\n",
    "for i in range(len(directory_str)):\n",
    "    pg_num.append(pg_id_num_map[o[i].page.idnum] + 1)\n",
    "pg_num"
   ]
  },
  {
   "cell_type": "markdown",
   "id": "d0bf2830-4acc-4e58-8f19-fa2204f57668",
   "metadata": {},
   "source": [
    "# Multiprocessing"
   ]
  },
  {
   "cell_type": "code",
   "execution_count": 123,
   "id": "5815ccef-8a34-4278-be7c-23a74aecb733",
   "metadata": {},
   "outputs": [
    {
     "name": "stdout",
     "output_type": "stream",
     "text": [
      "3.019270420074463\n",
      "Parent process 4652.\n",
      "Waiting for all subprocesses done...\n",
      "All subprocesses done.\n",
      "multiple process: 0.03785061836242676\n"
     ]
    }
   ],
   "source": [
    "from multiprocessing import Pool\n",
    "import os, time, random\n",
    "import re\n",
    "import pdfplumber\n",
    "\n",
    "\n",
    "\n",
    "start1 = time.time()\n",
    "pdf_path = \"./data/00011-恒生银行-EN.pdf\"\n",
    "with pdfplumber.open(pdf_path) as pdf:\n",
    "    for i in range(54,62):\n",
    "        pdf_text = pdf.pages[i].extract_text()\n",
    "        pdf_text = re.split('\\. |! ',pdf_text)\n",
    "        # 这个分隔符还有待测试，但注意必须在符号后加空格，因为句号作为句子之间的分割和句中点号的根本区别就是是否有英文句子结束后的空格\n",
    "        pdf_text=[sentence for sentence in pdf_text if 'climate change' in sentence]\n",
    "\n",
    "pdf_path2 = \"./data/2022123003201_c.pdf\"\n",
    "with pdfplumber.open(pdf_path2) as pdf:\n",
    "    for i in range(54,62):\n",
    "        pdf_text = pdf.pages[i].extract_text()\n",
    "        pdf_text = re.split('\\. |! ',pdf_text)\n",
    "        # 这个分隔符还有待测试，但注意必须在符号后加空格，因为句号作为句子之间的分割和句中点号的根本区别就是是否有英文句子结束后的空格\n",
    "        pdf_text=[sentence for sentence in pdf_text if 'climate change' in sentence]\n",
    "\n",
    "end1=time.time()\n",
    "time1=end1-start1\n",
    "print(time1)\n",
    "\n",
    "\n",
    "def multiplePDF(name,pdf_path):\n",
    "    print('Run child process %s (%s)...' % (name, os.getpid()))\n",
    "    with pdfplumber.open(pdf_path) as pdf:\n",
    "        for i in range(54, 62):\n",
    "            pdf_text = pdf.pages[i].extract_text()\n",
    "            pdf_text = re.split('\\. |! ', pdf_text)\n",
    "            # 这个分隔符还有待测试，但注意必须在符号后加空格，因为句号作为句子之间的分割和句中点号的根本区别就是是否有英文句子结束后的空格\n",
    "            pdf_text = [sentence for sentence in pdf_text if 'climate change' in sentence]\n",
    "\n",
    "\n",
    "\n",
    "if __name__=='__main__':\n",
    "    print('Parent process %s.' % os.getpid())\n",
    "    start2 = time.time()\n",
    "    p = Pool(1)\n",
    "    p.apply_async(multiplePDF, args=('00011-恒生',\"./data/00011-恒生银行-EN.pdf\",))\n",
    "    p.apply_async(multiplePDF, args=('00016-新鸿基', \"./data/2022123003201_c.pdf\",))\n",
    "    print('Waiting for all subprocesses done...')\n",
    "    p.close()\n",
    "    print('All subprocesses done.')\n",
    "    end2 = time.time()\n",
    "    time2 = end2 - start2\n",
    "    print(\"multiple process:\",time2)"
   ]
  },
  {
   "cell_type": "code",
   "execution_count": null,
   "id": "65403542-f529-4d8a-9a7f-14519c61dd8c",
   "metadata": {},
   "outputs": [],
   "source": []
  }
 ],
 "metadata": {
  "kernelspec": {
   "display_name": "Python 3 (ipykernel)",
   "language": "python",
   "name": "python3"
  },
  "language_info": {
   "codemirror_mode": {
    "name": "ipython",
    "version": 3
   },
   "file_extension": ".py",
   "mimetype": "text/x-python",
   "name": "python",
   "nbconvert_exporter": "python",
   "pygments_lexer": "ipython3",
   "version": "3.9.12"
  }
 },
 "nbformat": 4,
 "nbformat_minor": 5
}
