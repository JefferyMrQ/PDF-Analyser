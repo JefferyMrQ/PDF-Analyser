{
 "cells": [
  {
   "cell_type": "code",
   "execution_count": 1,
   "id": "37b67fc0-f3dd-4d67-bb55-a3b39ce44a28",
   "metadata": {},
   "outputs": [
    {
     "name": "stderr",
     "output_type": "stream",
     "text": [
      "D:\\Programming\\Python\\Environment_Construction\\Anaconda\\lib\\site-packages\\numpy\\_distributor_init.py:30: UserWarning: loaded more than 1 DLL from .libs:\n",
      "D:\\Programming\\Python\\Environment_Construction\\Anaconda\\lib\\site-packages\\numpy\\.libs\\libopenblas.WCDJNK7YVMPZQ2ME2ZZHJJRJ3JIKNDB7.gfortran-win_amd64.dll\n",
      "D:\\Programming\\Python\\Environment_Construction\\Anaconda\\lib\\site-packages\\numpy\\.libs\\libopenblas64__v0.3.21-gcc_10_3_0.dll\n",
      "  warnings.warn(\"loaded more than 1 DLL from .libs:\"\n"
     ]
    }
   ],
   "source": [
    "from nltk import word_tokenize\n",
    "import re\n",
    "import time\n",
    "import nltk\n",
    "import string\n",
    "import pandas as pd\n",
    "from nltk.corpus import stopwords\n",
    "from nltk.stem import WordNetLemmatizer\n",
    "from nltk import MWETokenizer\n",
    "from nltk.corpus import wordnet\n",
    "wnl = WordNetLemmatizer()"
   ]
  },
  {
   "cell_type": "markdown",
   "id": "7d87c36a-8b51-4678-be59-d7cc10bcbe71",
   "metadata": {},
   "source": [
    "### pdfplumber、borb、PyMuPDF"
   ]
  },
  {
   "cell_type": "code",
   "execution_count": 3,
   "id": "b11f11af-ee81-47f2-bbab-1376c3f71a53",
   "metadata": {},
   "outputs": [],
   "source": [
    "pdf_path = \"./data/00006_2020.pdf\""
   ]
  },
  {
   "cell_type": "code",
   "execution_count": 6,
   "id": "77415872-35ba-4307-acac-60b1f98085c2",
   "metadata": {},
   "outputs": [],
   "source": [
    "def cost_time(func):\n",
    "    def fun(*args, **kwargs):\n",
    "        t = time.perf_counter()\n",
    "        result = func(*args, **kwargs)\n",
    "        print(f'func {func.__name__} cost time:{time.perf_counter() - t:.2f} s')\n",
    "        return result\n",
    "    return fun"
   ]
  },
  {
   "cell_type": "markdown",
   "id": "7bdacdfe-1ae6-4000-819d-df449c86be9d",
   "metadata": {},
   "source": [
    "#### 1. pdfplumber"
   ]
  },
  {
   "cell_type": "code",
   "execution_count": 4,
   "id": "9d278725-cf5c-4722-b2af-669b80c84bfb",
   "metadata": {},
   "outputs": [
    {
     "name": "stdout",
     "output_type": "stream",
     "text": [
      "func test_pdfplumber cost time:43.85 s\n"
     ]
    }
   ],
   "source": [
    "import pdfplumber\n",
    "\n",
    "@cost_time\n",
    "def test_pdfplumber(pdf_path):\n",
    "    with pdfplumber.open(pdf_path) as pdf:\n",
    "        for page in pdf.pages:\n",
    "            page.extract_text()\n",
    "    \n",
    "test_pdfplumber(pdf_path)"
   ]
  },
  {
   "cell_type": "markdown",
   "id": "b3e3ab9b-883d-41bf-8cd9-8ea377135a18",
   "metadata": {},
   "source": [
    "#### 2. borb"
   ]
  },
  {
   "cell_type": "code",
   "execution_count": 5,
   "id": "212ee711-3356-439d-a6df-ee869c6d45d7",
   "metadata": {
    "collapsed": true,
    "jupyter": {
     "outputs_hidden": true
    },
    "tags": []
   },
   "outputs": [
    {
     "name": "stdout",
     "output_type": "stream",
     "text": [
      "P r s et\n",
      "Ass owe\n",
      "(Stock Code : 6)\n",
      "i d\n",
      "Hol\n",
      "m it ngs Li ed\n",
      "dom • K i n g Austra i t e d lia\n",
      "U n & Sa • • lt h f e t H\n",
      "o e a y n H g\n",
      "K o n\n",
      "g\n",
      "• M\n",
      "a li t y i n b i\n",
      "l ia a el n T\n",
      "d R e c h C\n",
      "n h i n o l\n",
      "a o g\n",
      "y\n",
      "•\n",
      "N e\n",
      "w Z\n",
      "e l a\n",
      "a n\n",
      "d\n",
      "• T\n",
      "h i a\n",
      "l C a l\n",
      "n e a d n\n",
      "E n e r\n",
      "gy •\n",
      "a C n a\n",
      "d a\n",
      "• e N\n",
      "h t l r e a\n",
      "n a c i r e s d m A\n",
      "f o s e t a t S d e t i n U •\n",
      "A al ort 20 20\n",
      "nnu Rep\n",
      "Gearing up\n",
      "for Sustainable Business\n",
      "Annual Report 2020\n",
      "func test_borb cost time:538.03 s\n"
     ]
    },
    {
     "name": "stderr",
     "output_type": "stream",
     "text": [
      "Exception in thread Thread-5:\n",
      "Traceback (most recent call last):\n",
      "  File \"D:\\Programming\\Python\\Environment_Construction\\Anaconda\\lib\\site-packages\\urllib3\\connectionpool.py\", line 700, in urlopen\n",
      "    self._prepare_proxy(conn)\n",
      "  File \"D:\\Programming\\Python\\Environment_Construction\\Anaconda\\lib\\site-packages\\urllib3\\connectionpool.py\", line 994, in _prepare_proxy\n",
      "    conn.connect()\n",
      "  File \"D:\\Programming\\Python\\Environment_Construction\\Anaconda\\lib\\site-packages\\urllib3\\connection.py\", line 364, in connect\n",
      "    self.sock = conn = self._connect_tls_proxy(hostname, conn)\n",
      "  File \"D:\\Programming\\Python\\Environment_Construction\\Anaconda\\lib\\site-packages\\urllib3\\connection.py\", line 499, in _connect_tls_proxy\n",
      "    socket = ssl_wrap_socket(\n",
      "  File \"D:\\Programming\\Python\\Environment_Construction\\Anaconda\\lib\\site-packages\\urllib3\\util\\ssl_.py\", line 453, in ssl_wrap_socket\n",
      "    ssl_sock = _ssl_wrap_socket_impl(sock, context, tls_in_tls)\n",
      "  File \"D:\\Programming\\Python\\Environment_Construction\\Anaconda\\lib\\site-packages\\urllib3\\util\\ssl_.py\", line 495, in _ssl_wrap_socket_impl\n",
      "    return ssl_context.wrap_socket(sock)\n",
      "  File \"D:\\Programming\\Python\\Environment_Construction\\Anaconda\\lib\\ssl.py\", line 500, in wrap_socket\n",
      "    return self.sslsocket_class._create(\n",
      "  File \"D:\\Programming\\Python\\Environment_Construction\\Anaconda\\lib\\ssl.py\", line 1040, in _create\n",
      "    self.do_handshake()\n",
      "  File \"D:\\Programming\\Python\\Environment_Construction\\Anaconda\\lib\\ssl.py\", line 1309, in do_handshake\n",
      "    self._sslobj.do_handshake()\n",
      "ssl.SSLEOFError: EOF occurred in violation of protocol (_ssl.c:1129)\n",
      "\n",
      "During handling of the above exception, another exception occurred:\n",
      "\n",
      "Traceback (most recent call last):\n",
      "  File \"D:\\Programming\\Python\\Environment_Construction\\Anaconda\\lib\\site-packages\\requests\\adapters.py\", line 489, in send\n",
      "    resp = conn.urlopen(\n",
      "  File \"D:\\Programming\\Python\\Environment_Construction\\Anaconda\\lib\\site-packages\\urllib3\\connectionpool.py\", line 785, in urlopen\n",
      "    retries = retries.increment(\n",
      "  File \"D:\\Programming\\Python\\Environment_Construction\\Anaconda\\lib\\site-packages\\urllib3\\util\\retry.py\", line 592, in increment\n",
      "    raise MaxRetryError(_pool, url, error or ResponseError(cause))\n",
      "urllib3.exceptions.MaxRetryError: HTTPSConnectionPool(host='cztmincfqq4fobtt6c7ect7gli0isbwx.lambda-url.us-east-1.on.aws', port=443): Max retries exceeded with url: / (Caused by SSLError(SSLEOFError(8, 'EOF occurred in violation of protocol (_ssl.c:1129)')))\n",
      "\n",
      "During handling of the above exception, another exception occurred:\n",
      "\n",
      "Traceback (most recent call last):\n",
      "  File \"D:\\Programming\\Python\\Environment_Construction\\Anaconda\\lib\\threading.py\", line 973, in _bootstrap_inner\n",
      "    self.run()\n",
      "  File \"D:\\Programming\\Python\\Environment_Construction\\Anaconda\\lib\\threading.py\", line 910, in run\n",
      "    self._target(*self._args, **self._kwargs)\n",
      "  File \"D:\\Programming\\Python\\Environment_Construction\\Anaconda\\lib\\site-packages\\borb\\license\\usage_statistics.py\", line 110, in _send_usage_statistics_for_event\n",
      "    requests.post(\n",
      "  File \"D:\\Programming\\Python\\Environment_Construction\\Anaconda\\lib\\site-packages\\requests\\api.py\", line 115, in post\n",
      "    return request(\"post\", url, data=data, json=json, **kwargs)\n",
      "  File \"D:\\Programming\\Python\\Environment_Construction\\Anaconda\\lib\\site-packages\\requests\\api.py\", line 59, in request\n",
      "    return session.request(method=method, url=url, **kwargs)\n",
      "  File \"D:\\Programming\\Python\\Environment_Construction\\Anaconda\\lib\\site-packages\\requests\\sessions.py\", line 587, in request\n",
      "    resp = self.send(prep, **send_kwargs)\n",
      "  File \"D:\\Programming\\Python\\Environment_Construction\\Anaconda\\lib\\site-packages\\requests\\sessions.py\", line 701, in send\n",
      "    r = adapter.send(request, **kwargs)\n",
      "  File \"D:\\Programming\\Python\\Environment_Construction\\Anaconda\\lib\\site-packages\\requests\\adapters.py\", line 563, in send\n",
      "    raise SSLError(e, request=request)\n",
      "requests.exceptions.SSLError: HTTPSConnectionPool(host='cztmincfqq4fobtt6c7ect7gli0isbwx.lambda-url.us-east-1.on.aws', port=443): Max retries exceeded with url: / (Caused by SSLError(SSLEOFError(8, 'EOF occurred in violation of protocol (_ssl.c:1129)')))\n"
     ]
    }
   ],
   "source": [
    "import typing\n",
    "from borb.pdf import Document\n",
    "from borb.pdf import PDF\n",
    "from borb.toolkit import SimpleTextExtraction\n",
    "\n",
    "@cost_time\n",
    "def test_borb(pdf_path):\n",
    "\n",
    "    # read the Document\n",
    "    doc: typing.Optional[Document] = None\n",
    "    l: SimpleTextExtraction = SimpleTextExtraction()\n",
    "    with open(pdf_path, \"rb\") as in_file_handle:\n",
    "        doc = PDF.loads(in_file_handle, [l])\n",
    "\n",
    "    # check whether we have read a Document\n",
    "    assert doc is not None\n",
    "\n",
    "    # print the text on the first Page\n",
    "    print(l.get_text()[0])\n",
    "\n",
    "test_borb(pdf_path)"
   ]
  },
  {
   "cell_type": "markdown",
   "id": "b8bbd48f-f08d-47c0-a21c-6bd714c63c2e",
   "metadata": {},
   "source": [
    "#### 3. PyMuPDF"
   ]
  },
  {
   "cell_type": "code",
   "execution_count": 17,
   "id": "816d1ede-6b47-4544-bac9-87cd9ac21d04",
   "metadata": {},
   "outputs": [
    {
     "name": "stdout",
     "output_type": "stream",
     "text": [
      "func test_PyMuPDF cost time:0.74 s\n"
     ]
    }
   ],
   "source": [
    "import fitz\n",
    "\n",
    "@cost_time\n",
    "def test_PyMuPDF(pdf_path):\n",
    "    doc = fitz.open(pdf_path)\n",
    "    for page in doc:\n",
    "        page.get_text(\"text\")\n",
    "    \n",
    "        \n",
    "toc = test_PyMuPDF(pdf_path)"
   ]
  },
  {
   "cell_type": "markdown",
   "id": "972c3a7a-afe6-4d13-8f8d-dd7130583962",
   "metadata": {},
   "source": [
    "结论：综上，使用pymupdf(其下的fitz工具包)效率最高"
   ]
  },
  {
   "cell_type": "code",
   "execution_count": 9,
   "id": "1b5da1ca-db3a-4d4d-b42c-39b52bb5ad1b",
   "metadata": {},
   "outputs": [],
   "source": [
    "# 用pymupdf提取页面文本（可以解决排版问题，这个包会自动识别版面，但是不确定这个功能的稳定性）\n",
    "def get_pages(pdf_path):\n",
    "    doc = fitz.open(pdf_path)\n",
    "    return doc\n",
    "\n",
    "doc = get_pages(pdf_path)\n",
    "doc[57].get_text(\"text\")  # P58"
   ]
  },
  {
   "cell_type": "code",
   "execution_count": 12,
   "id": "40f48fd1-534a-432e-ae05-4f6af71c03cf",
   "metadata": {},
   "outputs": [
    {
     "data": {
      "text/plain": [
       "[[1, 'HSBC Holdings plc Environmental, Social and Governance Update 2019 ', 1],\n",
       " [1, 'Contents', 3],\n",
       " [1, 'Overview', 4],\n",
       " [2, 'HSBC at a glance ', 4],\n",
       " [2, 'Group Chief Executive’s review ', 6],\n",
       " [2, 'Delivering our strategy ', 8],\n",
       " [2, 'Our approach ', 10],\n",
       " [1, 'Customers', 12],\n",
       " [2, 'Our Retail Banking and Wealth Management customers', 14],\n",
       " [2, 'Our Commercial Banking customers', 18],\n",
       " [2, 'Our Global Banking and Markets customers', 20],\n",
       " [2, 'Our Global Private Banking customers', 22],\n",
       " [2, 'Customer developments across all global businesses', 24],\n",
       " [1, 'Employees', 28],\n",
       " [2, 'Listening to our people', 30],\n",
       " [2, 'Diversity and inclusion', 32],\n",
       " [2, 'Well-being and developing our people', 34],\n",
       " [1, 'Supporting sustainable growth', 36],\n",
       " [2, 'Sustainable  finance', 38],\n",
       " [2, 'Our approach to sustainability risk management  ', 44],\n",
       " [2, 'Suppliers', 45],\n",
       " [2, 'Sustainable operations', 46],\n",
       " [2, 'Committed to communities', 48],\n",
       " [1, 'A responsible business culture ', 50],\n",
       " [2, 'Ensuring strong corporate governance ', 51],\n",
       " [2, 'Restoring trust', 52],\n",
       " [2, 'Safeguarding the  financial system ', 55],\n",
       " [2, 'A responsible approach  to tax ', 56],\n",
       " [2, 'Respecting  human rights', 57],\n",
       " [2, 'Supporting financial inclusion ', 58],\n",
       " [1, 'Additional information', 60],\n",
       " [2, 'Approach to reporting ', 60],\n",
       " [2, 'Cautionary statement regarding  forward-looking statements ', 60],\n",
       " [2, 'Non-GAAP financial information ', 60],\n",
       " [2, 'Abbreviations', 61],\n",
       " [2, 'Certain defined terms ', 61],\n",
       " [2, 'Useful links', 62],\n",
       " [2, 'Photography', 62]]"
      ]
     },
     "execution_count": 12,
     "metadata": {},
     "output_type": "execute_result"
    }
   ],
   "source": [
    "# 用pymupdf提取目录\n",
    "temp_path = \"./data/00005_2021.pdf\"\n",
    "def get_toc(pdf_path):\n",
    "    doc = fitz.open(pdf_path)\n",
    "    toc = doc.get_toc()\n",
    "    return toc\n",
    "\n",
    "toc = get_toc(temp_path)\n",
    "toc"
   ]
  },
  {
   "cell_type": "markdown",
   "id": "616b3068-8d7f-4ad3-ad58-76778e7bfa18",
   "metadata": {},
   "source": [
    "### nltk分词 vs re正则匹配"
   ]
  },
  {
   "cell_type": "code",
   "execution_count": 22,
   "id": "684722cc-a73d-45ef-a74b-ccfc9897fa1e",
   "metadata": {
    "tags": []
   },
   "outputs": [
    {
     "name": "stdout",
     "output_type": "stream",
     "text": [
      "func test_nltk cost time:1.00 s\n"
     ]
    }
   ],
   "source": [
    "@cost_time\n",
    "def test_nltk(pdf_path):\n",
    "    doc = fitz.open(pdf_path)\n",
    "    for page in doc:\n",
    "        t = page.get_text(\"text\")\n",
    "        tokenizer = MWETokenizer([('climate', 'change')], separator = ' ')\n",
    "        wordlist = tokenizer.tokenize(nltk.word_tokenize(t))\n",
    "test_nltk(pdf_path)"
   ]
  },
  {
   "cell_type": "code",
   "execution_count": 29,
   "id": "18c53b9a-afbf-4ba7-8c60-f6d1f356bf8b",
   "metadata": {},
   "outputs": [
    {
     "name": "stdout",
     "output_type": "stream",
     "text": [
      "func test_re cost time:0.72 s\n"
     ]
    }
   ],
   "source": [
    "@cost_time\n",
    "def test_re(pdf_path):\n",
    "    doc = fitz.open(pdf_path)\n",
    "    pattern = re.compile(\"climate change\")\n",
    "    for page in doc:\n",
    "        t = page.get_text(\"text\")\n",
    "        pattern.search(t)\n",
    "test_re(pdf_path)"
   ]
  },
  {
   "cell_type": "markdown",
   "id": "6372542a-92f9-42e8-83b0-1976b9fb04b1",
   "metadata": {},
   "source": [
    "结论：两者效率差不多，用nltk"
   ]
  }
 ],
 "metadata": {
  "kernelspec": {
   "display_name": "Python 3 (ipykernel)",
   "language": "python",
   "name": "python3"
  },
  "language_info": {
   "codemirror_mode": {
    "name": "ipython",
    "version": 3
   },
   "file_extension": ".py",
   "mimetype": "text/x-python",
   "name": "python",
   "nbconvert_exporter": "python",
   "pygments_lexer": "ipython3",
   "version": "3.9.12"
  }
 },
 "nbformat": 4,
 "nbformat_minor": 5
}
